{
 "cells": [
  {
   "cell_type": "markdown",
   "metadata": {},
   "source": [
    "# introduce\n",
    "Numpy是Python语言进行科学计算必要的Model。Numpy支持Python的数值计算扩充库，其中包含了许多强大的功能：处理多维数组以及矩阵运算。NumPy（Numerical Python），面向数值计算的第三方库。\n",
    "\n",
    "## basic\n",
    "- 数值类型 & 多维数组\n",
    "- 数组操作 & 随机抽样\n",
    "- 数学函数 & 代数运算\n",
    "- 数组索引 & Others"
   ]
  },
  {
   "cell_type": "markdown",
   "metadata": {},
   "source": [
    "## NumPy数组类型\n",
    "![](https://cdn.jsdelivr.net/gh/Lyli724/Blogs_image@master/uPic/JjozOV.png)\n",
    "> 在NumPy中的这些数值类型我们常常使用dtype(data)来查看data数据的类型，使用numpy.dtype(object, align, copy)来指定数据类型。在数组中，使用dtype = 参数"
   ]
  },
  {
   "cell_type": "code",
   "execution_count": 1,
   "metadata": {},
   "outputs": [
    {
     "output_type": "execute_result",
     "data": {
      "text/plain": "(array([  6.6,  66.6, 666.6]), dtype('float64'))"
     },
     "metadata": {},
     "execution_count": 1
    }
   ],
   "source": [
    "import numpy as np # 导入Numpy\n",
    "\n",
    "# 指定数组中的数值类型为float64\n",
    "a = np.array([6.6, 66.6, 666.6], dtype = np.float64) \n",
    "a, a.dtype"
   ]
  },
  {
   "cell_type": "code",
   "execution_count": 2,
   "metadata": {},
   "outputs": [
    {
     "output_type": "execute_result",
     "data": {
      "text/plain": "(dtype('int64'), array([  6.6,  66.6, 666.6]))"
     },
     "metadata": {},
     "execution_count": 2
    }
   ],
   "source": [
    "# 使用np.astype()方法将不同的数值类型之间相互转换\n",
    "a.astype(int).dtype, a"
   ]
  },
  {
   "cell_type": "markdown",
   "metadata": {},
   "source": [
    "## NumPy创建数组\n",
    "在Python内建对象中，数组有以下三种形式：\n",
    "- list(列表)：[1, 2, 3]\n",
    "- tuple(元组)：(1, 2, 3)\n",
    "- dict(字典)：{1: 1, 2: 2, 3: 3}\n",
    "\n",
    "其中，元组与列表的操作相似，但是元组中的元素是不可修改的，列表则可以修改。字典是以键值对形式存在。python标准类对数组的处理仅仅局限于1维数组，而且对数学运算不是很好的支持。NumPy中最核心的是多维数组ndarray，它对高维数组具有较好的数值计算能力。\n",
    "\n",
    "NmuPy中的ndarray具有以下特点\n",
    "- shape: 数组的形状（几行几列）\n",
    "- dtype: 数据类型\n",
    "- buffer: 对象暴露缓冲区接口\n",
    "- offset: 数组数据的偏移量\n",
    "- strides: 数据步长\n",
    "- order: {'C', 'F'}, 以行或者列为主排列顺序。\n",
    "\n",
    "NumPy创建多维数组的一些方法\n",
    "- 从Python数组结构列表， 元组等转换。\n",
    "- 使用np.arange、 np.ones、 NP.zeros等NumPy原生方法创建。\n",
    "- 从存储空间读入数组。\n",
    "- 通过使用字符串或缓冲区从原始字节创建数组\n",
    "- 使用特殊函数， 如random\n",
    "\n",
    "### list or tuple转换\n",
    "在NumPy中，我们使用numpy.array将列表或元组转换为ndarray数组。\n",
    "```python\n",
    "numpy.array(object, dtype = None, copy = True, order = None, subok = False, ndmin = 0)\n",
    "```\n",
    "其中，参数：\n",
    "- object：列表、元组等。\n",
    "- dtype：数据类型。如果未给出，则类型为被保存对象所需的最小类型。\n",
    "- copy：布尔类型，默认 True，表示复制对象。\n",
    "- order：顺序。\n",
    "- subok：布尔类型，表示子类是否被传递。\n",
    "- ndmin：生成的数组应具有的最小维数。\n",
    "下面，通过列表创建一个 ndarray 数组。"
   ]
  },
  {
   "cell_type": "code",
   "execution_count": 3,
   "metadata": {},
   "outputs": [
    {
     "output_type": "execute_result",
     "data": {
      "text/plain": "array([[1, 2, 3],\n       [4, 5, 6]])"
     },
     "metadata": {},
     "execution_count": 3
    }
   ],
   "source": [
    "np.array([[1, 2, 3], [4, 5, 6]])"
   ]
  },
  {
   "cell_type": "code",
   "execution_count": 4,
   "metadata": {},
   "outputs": [
    {
     "output_type": "execute_result",
     "data": {
      "text/plain": "array([[1, 2],\n       [3, 4],\n       [5, 6]])"
     },
     "metadata": {},
     "execution_count": 4
    }
   ],
   "source": [
    "np.array([(1, 2), (3, 4), (5, 6)])"
   ]
  },
  {
   "cell_type": "markdown",
   "metadata": {},
   "source": [
    "### arrage创建数组\n",
    "除了直接使用array方法创建ndarray，在NumPy中还有一些方法可以创建一些有规律的多维数组。首先，我们来看一看arange()。arange()的功能是在给定区间内创建一系列均匀间隔的值。\n",
    "```python\n",
    "numpy.arange(start, stop, step, dtype = None)\n",
    "```\n",
    "你需要设置区间的起始值和结束值，[start, stop)左闭右开区间。设置step步长间隔。dtype可以返回ndarray的类型。"
   ]
  },
  {
   "cell_type": "code",
   "execution_count": 5,
   "metadata": {},
   "outputs": [
    {
     "output_type": "execute_result",
     "data": {
      "text/plain": "array([3. , 3.2, 3.4, 3.6, 3.8, 4. , 4.2, 4.4, 4.6, 4.8, 5. , 5.2, 5.4,\n       5.6, 5.8, 6. , 6.2, 6.4, 6.6, 6.8, 7. , 7.2, 7.4, 7.6, 7.8, 8. ,\n       8.2, 8.4, 8.6, 8.8, 9. , 9.2, 9.4, 9.6, 9.8])"
     },
     "metadata": {},
     "execution_count": 5
    }
   ],
   "source": [
    "np.arange(3, 10, 0.2, dtype = 'float64')"
   ]
  },
  {
   "cell_type": "markdown",
   "metadata": {},
   "source": [
    "### linspace创建数组\n",
    "linspace方法类似于arange方法，创建数值有规律的数组。linspace用于指定的区间内返回间隔均匀的值\n",
    "```python\n",
    "numpy.linspace(start, stop, num = 50, endpoint = True, restep = False, dtype = None)\n",
    "```\n",
    "- start：序列的起始值。\n",
    "- stop：序列的结束值。\n",
    "- num：生成的样本数。默认值为50。\n",
    "- endpoint：布尔值，如果为真，则最后一个样本包含在序列内。\n",
    "- retstep：布尔值，如果为真，返回间距。\n",
    "- dtype：数组的类型。"
   ]
  },
  {
   "cell_type": "code",
   "execution_count": 8,
   "metadata": {},
   "outputs": [
    {
     "output_type": "execute_result",
     "data": {
      "text/plain": "array([ 0,  2,  4,  6,  8, 11, 13, 15, 17, 20])"
     },
     "metadata": {},
     "execution_count": 8
    }
   ],
   "source": [
    "np.linspace(0, 20, 10, endpoint = True, dtype = 'int64')"
   ]
  },
  {
   "cell_type": "code",
   "execution_count": 9,
   "metadata": {},
   "outputs": [
    {
     "output_type": "execute_result",
     "data": {
      "text/plain": "array([ 0,  2,  4,  6,  8, 10, 12, 14, 16, 18])"
     },
     "metadata": {},
     "execution_count": 9
    }
   ],
   "source": [
    "np.linspace(0, 20, 10, endpoint = False, dtype = 'int64')"
   ]
  },
  {
   "cell_type": "markdown",
   "metadata": {},
   "source": [
    "### ones创建数组\n",
    "numpy.ones用于快速创建数值全部为1的多维数组。\n",
    "```python\n",
    "numpy.ones(shape, dtype = None, order = 'C')\n",
    "```\n",
    "- shape：用于指定数组形状，例如（1， 2）或 3, 传入元组。\n",
    "- dtype：数据类型。\n",
    "- order：{'C'，'F'}，按行或列方式储存数组。"
   ]
  },
  {
   "cell_type": "code",
   "execution_count": 11,
   "metadata": {},
   "outputs": [
    {
     "output_type": "execute_result",
     "data": {
      "text/plain": "array([[1., 1., 1.],\n       [1., 1., 1.],\n       [1., 1., 1.]])"
     },
     "metadata": {},
     "execution_count": 11
    }
   ],
   "source": [
    "np.ones((3, 3))"
   ]
  },
  {
   "cell_type": "markdown",
   "metadata": {},
   "source": [
    "### zeros创建数组\n",
    "numpy.zeros用于快速创建数值全为0的多维数组\n",
    "```python\n",
    "numpy.zeros(shape, dtype = None, order = 'C')\n",
    "```\n",
    "- shape：用于指定数组形状，例如（1， 2）或 3, 传入元组。\n",
    "- dtype：数据类型。\n",
    "- order：{'C'，'F'}，按行或列方式储存数组。"
   ]
  },
  {
   "cell_type": "code",
   "execution_count": 12,
   "metadata": {},
   "outputs": [
    {
     "output_type": "execute_result",
     "data": {
      "text/plain": "array([0., 0., 0.])"
     },
     "metadata": {},
     "execution_count": 12
    }
   ],
   "source": [
    "np.zeros(3)"
   ]
  },
  {
   "cell_type": "code",
   "execution_count": 14,
   "metadata": {},
   "outputs": [
    {
     "output_type": "execute_result",
     "data": {
      "text/plain": "array([[0., 0.],\n       [0., 0.],\n       [0., 0.]])"
     },
     "metadata": {},
     "execution_count": 14
    }
   ],
   "source": [
    "np.zeros((3, 2))"
   ]
  },
  {
   "cell_type": "markdown",
   "metadata": {},
   "source": [
    "### eye创建数组\n",
    "numpy.eye用于创建一个二维数组，其特点是k对角线上为1，其余值全部为0。\n",
    "```python\n",
    "numpy.eye(N, M = None, k = 0, dtype = <type 'float'>)\n",
    "```\n",
    "N：输出数组的行数。\n",
    "M：输出数组的列数。\n",
    "k：对角线索引：0（默认）是指主对角线，正值是指上对角线，负值是指下对角线。"
   ]
  },
  {
   "cell_type": "code",
   "execution_count": 15,
   "metadata": {},
   "outputs": [
    {
     "output_type": "execute_result",
     "data": {
      "text/plain": "array([[0., 0., 0., 1.],\n       [0., 0., 0., 0.],\n       [0., 0., 0., 0.],\n       [0., 0., 0., 0.],\n       [0., 0., 0., 0.]])"
     },
     "metadata": {},
     "execution_count": 15
    }
   ],
   "source": [
    "np.eye(5, 4, 3)"
   ]
  },
  {
   "cell_type": "code",
   "execution_count": 16,
   "metadata": {},
   "outputs": [
    {
     "output_type": "execute_result",
     "data": {
      "text/plain": "array([[1., 0., 0., 0.],\n       [0., 1., 0., 0.],\n       [0., 0., 1., 0.],\n       [0., 0., 0., 1.],\n       [0., 0., 0., 0.]])"
     },
     "metadata": {},
     "execution_count": 16
    }
   ],
   "source": [
    "np.eye(5, 4)"
   ]
  },
  {
   "cell_type": "markdown",
   "metadata": {},
   "source": [
    "### 已知数据创建数组\n",
    "我们可以从硬盘上的数据文件、函数创建ndarray。NumPy提供以下方法进行创建：\n",
    "- frombuffer（buffer）：将缓冲区转换为 1 维数组。\n",
    "- fromfile（file，dtype，count，sep）：从文本或二进制文件中构建多维数组。\n",
    "- fromfunction（function，shape）：通过函数返回值来创建多维数组。\n",
    "- fromiter（iterable，dtype，count）：从可迭代对象创建 1 维数组。\n",
    "- fromstring（string，dtype，count，sep）：从字符串中创建 1 维数组。"
   ]
  },
  {
   "cell_type": "code",
   "execution_count": 17,
   "metadata": {},
   "outputs": [
    {
     "output_type": "execute_result",
     "data": {
      "text/plain": "array([[0., 1., 2., 3.],\n       [1., 2., 3., 4.],\n       [2., 3., 4., 5.],\n       [3., 4., 5., 6.],\n       [4., 5., 6., 7.]])"
     },
     "metadata": {},
     "execution_count": 17
    }
   ],
   "source": [
    "np.fromfunction(lambda a, b: a + b, (5, 4))"
   ]
  },
  {
   "cell_type": "markdown",
   "metadata": {},
   "source": [
    "### ndarray数组属性\n",
    "ndarray.T用于数组的转置， 与.transpose()相同。\n",
    "ndarray.imag用于输出数组包含元素的虚部。\n",
    "ndarray.real用来输出数组包含元素的实部。\n",
    "ndarray.size用于输出数组中包含的所有元素个数。\n",
    "ndarray.itemsize用来输出一个数组的元素字节数。\n",
    "ndarray.nbytes用来输出数组的总元素的总字节数。\n",
    "ndarray.ndim用来输出数组维度。\n",
    "ndarray.shape用来输出数组形状。\n",
    "ndarray.strides用来遍历数组时，输出每个维度中步进的字节数组。"
   ]
  },
  {
   "cell_type": "code",
   "execution_count": 18,
   "metadata": {},
   "outputs": [
    {
     "output_type": "execute_result",
     "data": {
      "text/plain": "array([[1, 2, 3],\n       [4, 5, 6],\n       [7, 8, 9]])"
     },
     "metadata": {},
     "execution_count": 18
    }
   ],
   "source": [
    "a = np.array([[1, 2, 3], [4, 5, 6], [7, 8, 9]])\n",
    "a  # 查看 a 的值"
   ]
  },
  {
   "cell_type": "code",
   "execution_count": 19,
   "metadata": {},
   "outputs": [
    {
     "output_type": "execute_result",
     "data": {
      "text/plain": "array([[1, 4, 7],\n       [2, 5, 8],\n       [3, 6, 9]])"
     },
     "metadata": {},
     "execution_count": 19
    }
   ],
   "source": [
    "a.T"
   ]
  },
  {
   "cell_type": "code",
   "execution_count": 20,
   "metadata": {},
   "outputs": [
    {
     "output_type": "execute_result",
     "data": {
      "text/plain": "dtype('int64')"
     },
     "metadata": {},
     "execution_count": 20
    }
   ],
   "source": [
    "a.dtype"
   ]
  },
  {
   "cell_type": "code",
   "execution_count": 21,
   "metadata": {},
   "outputs": [
    {
     "output_type": "execute_result",
     "data": {
      "text/plain": "array([[0, 0, 0],\n       [0, 0, 0],\n       [0, 0, 0]])"
     },
     "metadata": {},
     "execution_count": 21
    }
   ],
   "source": [
    "a.imag"
   ]
  },
  {
   "cell_type": "code",
   "execution_count": 22,
   "metadata": {},
   "outputs": [
    {
     "output_type": "execute_result",
     "data": {
      "text/plain": "array([[1, 2, 3],\n       [4, 5, 6],\n       [7, 8, 9]])"
     },
     "metadata": {},
     "execution_count": 22
    }
   ],
   "source": [
    "a.real"
   ]
  },
  {
   "cell_type": "code",
   "execution_count": 23,
   "metadata": {},
   "outputs": [
    {
     "output_type": "execute_result",
     "data": {
      "text/plain": "9"
     },
     "metadata": {},
     "execution_count": 23
    }
   ],
   "source": [
    "a.size"
   ]
  },
  {
   "cell_type": "code",
   "execution_count": 24,
   "metadata": {},
   "outputs": [
    {
     "output_type": "execute_result",
     "data": {
      "text/plain": "8"
     },
     "metadata": {},
     "execution_count": 24
    }
   ],
   "source": [
    "a.itemsize"
   ]
  },
  {
   "cell_type": "code",
   "execution_count": 25,
   "metadata": {},
   "outputs": [
    {
     "output_type": "execute_result",
     "data": {
      "text/plain": "72"
     },
     "metadata": {},
     "execution_count": 25
    }
   ],
   "source": [
    "a.nbytes"
   ]
  },
  {
   "cell_type": "code",
   "execution_count": 26,
   "metadata": {},
   "outputs": [
    {
     "output_type": "execute_result",
     "data": {
      "text/plain": "2"
     },
     "metadata": {},
     "execution_count": 26
    }
   ],
   "source": [
    "a.ndim"
   ]
  },
  {
   "cell_type": "code",
   "execution_count": 27,
   "metadata": {},
   "outputs": [
    {
     "output_type": "execute_result",
     "data": {
      "text/plain": "(3, 3)"
     },
     "metadata": {},
     "execution_count": 27
    }
   ],
   "source": [
    "a.shape"
   ]
  },
  {
   "cell_type": "code",
   "execution_count": 28,
   "metadata": {},
   "outputs": [
    {
     "output_type": "execute_result",
     "data": {
      "text/plain": "(24, 8)"
     },
     "metadata": {},
     "execution_count": 28
    }
   ],
   "source": [
    "a.strides"
   ]
  },
  {
   "cell_type": "markdown",
   "metadata": {},
   "source": [
    "### 数组的维度和形状\n",
    "前面，我们已经对 NumPy 数组的类型和常用的生成方法进行了介绍。再继续了解更多内容前，必须先搞清楚一个重要的问题，那就是 NumPy 数组的维度和形状。\n",
    "NumPy 数组又被称之为 ndarray 多维数组，那么 n 就可以从 1 维依次递增。下图，我们展示了 1 至 3 维的 NumPy 数组示例。\n",
    "![](https://cdn.jsdelivr.net/gh/Lyli724/Blogs_image@master/uPic/zo9db8.png)\n",
    "> 1 维数组可以被看作数学中的向量.\n",
    "2 维数组可以看作是矩阵.\n",
    "3 维数组则是一个数据立方."
   ]
  },
  {
   "cell_type": "code",
   "execution_count": 29,
   "metadata": {},
   "outputs": [
    {
     "output_type": "execute_result",
     "data": {
      "text/plain": "(array([ 7,  2,  9, 10]),\n array([[5.2, 3. , 4.5],\n        [9.1, 0.1, 0.3]]),\n array([[[1, 1],\n         [1, 1],\n         [1, 1]],\n \n        [[1, 1],\n         [1, 1],\n         [1, 1]],\n \n        [[1, 1],\n         [1, 1],\n         [1, 1]],\n \n        [[1, 1],\n         [1, 1],\n         [1, 1]]]))"
     },
     "metadata": {},
     "execution_count": 29
    }
   ],
   "source": [
    "first_array = np.array([7, 2, 9, 10])\n",
    "second_array = np.array([[5.2, 3.0, 4.5],\n",
    "                [9.1, 0.1, 0.3]])\n",
    "third_array = np.array([[[1, 1], [1, 1], [1, 1]],\n",
    "                  [[1, 1], [1, 1], [1, 1]],\n",
    "                  [[1, 1], [1, 1], [1, 1]],\n",
    "                  [[1, 1], [1, 1], [1, 1]]])\n",
    "first_array, second_array, third_array"
   ]
  },
  {
   "cell_type": "code",
   "execution_count": 31,
   "metadata": {},
   "outputs": [
    {
     "output_type": "execute_result",
     "data": {
      "text/plain": "((4,), (2, 3), (4, 3, 2))"
     },
     "metadata": {},
     "execution_count": 31
    }
   ],
   "source": [
    "first_array.shape, second_array.shape, third_array.shape\n",
    "# 你可以发现规律，.shape 得到的形状实际上是数组在每个轴 Axis 上面的元素数量，而 .shape 的长度的表明了数组的维度。"
   ]
  },
  {
   "cell_type": "markdown",
   "metadata": {},
   "source": [
    "### 数组的基本操作\n",
    "#### 重塑形状\n",
    "reshape 可以在不改变数组数据的同时，改变数组的形状。其中，numpy.reshape() 等效于 ndarray.reshape()。reshape 方法非常简单：\n",
    "```python\n",
    "numpy.reshape(a, newshape) # newshape指得失新的形状（整数或者元组）\n",
    "```"
   ]
  },
  {
   "cell_type": "code",
   "execution_count": 32,
   "metadata": {},
   "outputs": [
    {
     "output_type": "execute_result",
     "data": {
      "text/plain": "array([[0, 1, 2, 3, 4],\n       [5, 6, 7, 8, 9]])"
     },
     "metadata": {},
     "execution_count": 32
    }
   ],
   "source": [
    "np.arange(10).reshape((2, 5))"
   ]
  },
  {
   "cell_type": "markdown",
   "metadata": {},
   "source": [
    "#### 展开数组\n",
    "ravel 的目的是将任意形状的数组扁平化，变为 1 维数组。ravel 方法如下：\n",
    "```python\n",
    "numpy.ravel(a, order = 'C')\n",
    "```\n",
    "其中，a 表示需要处理的数组。order 表示变换时的读取顺序，默认是按照行依次读取，当 order='F' 时，可以按列依次读取排序。"
   ]
  },
  {
   "cell_type": "code",
   "execution_count": 33,
   "metadata": {},
   "outputs": [
    {
     "output_type": "execute_result",
     "data": {
      "text/plain": "array([[0, 1, 2, 3, 4],\n       [5, 6, 7, 8, 9]])"
     },
     "metadata": {},
     "execution_count": 33
    }
   ],
   "source": [
    "a = np.arange(10).reshape(2, 5)\n",
    "a"
   ]
  },
  {
   "cell_type": "code",
   "execution_count": 34,
   "metadata": {},
   "outputs": [
    {
     "output_type": "execute_result",
     "data": {
      "text/plain": "array([0, 1, 2, 3, 4, 5, 6, 7, 8, 9])"
     },
     "metadata": {},
     "execution_count": 34
    }
   ],
   "source": [
    "np.ravel(a)"
   ]
  },
  {
   "cell_type": "code",
   "execution_count": 35,
   "metadata": {},
   "outputs": [
    {
     "output_type": "execute_result",
     "data": {
      "text/plain": "array([0, 5, 1, 6, 2, 7, 3, 8, 4, 9])"
     },
     "metadata": {},
     "execution_count": 35
    }
   ],
   "source": [
    "np.ravel(a, order = 'F')"
   ]
  },
  {
   "cell_type": "markdown",
   "metadata": {},
   "source": [
    "#### 轴移动\n",
    "moveaxis可以将数组的轴移动到新的位置。\n",
    "```python \n",
    "numpy.moveaxis(a, source, destination)\n",
    "```\n",
    "其中：\n",
    "a：数组。\n",
    "source：要移动的轴的原始位置。\n",
    "destination：要移动的轴的目标位置。"
   ]
  },
  {
   "cell_type": "code",
   "execution_count": 38,
   "metadata": {},
   "outputs": [
    {
     "output_type": "execute_result",
     "data": {
      "text/plain": "array([[[1.],\n        [1.],\n        [1.]],\n\n       [[1.],\n        [1.],\n        [1.]]])"
     },
     "metadata": {},
     "execution_count": 38
    }
   ],
   "source": [
    "a = np.ones((1, 2, 3))\n",
    "np.moveaxis(a, 0, -1)"
   ]
  },
  {
   "cell_type": "code",
   "execution_count": 45,
   "metadata": {},
   "outputs": [
    {
     "output_type": "execute_result",
     "data": {
      "text/plain": "((1, 2, 3), (2, 3, 1))"
     },
     "metadata": {},
     "execution_count": 45
    }
   ],
   "source": [
    "a.shape, np.moveaxis(a, 0, -1).shape\n",
    "# 因为维度没有-1的存在，所以相当于把1，2，3循环往左移位"
   ]
  },
  {
   "cell_type": "markdown",
   "metadata": {},
   "source": [
    "#### 轴交换\n",
    "swapaxes可以用来交换数组的轴\n",
    "```python\n",
    "numpy.swapaxes(a, axis1, axis2)\n",
    "```\n",
    "- a：数组。\n",
    "- axis1：需要交换的轴 1 位置。\n",
    "- axis2：需要与轴 1 交换位置的轴 1 位置。"
   ]
  },
  {
   "cell_type": "code",
   "execution_count": 46,
   "metadata": {},
   "outputs": [
    {
     "output_type": "execute_result",
     "data": {
      "text/plain": "array([[[1.],\n        [1.],\n        [1.],\n        [1.]],\n\n       [[1.],\n        [1.],\n        [1.],\n        [1.]],\n\n       [[1.],\n        [1.],\n        [1.],\n        [1.]]])"
     },
     "metadata": {},
     "execution_count": 46
    }
   ],
   "source": [
    "a = np.ones((1, 4, 3))\n",
    "np.swapaxes(a, 0, 2)"
   ]
  },
  {
   "cell_type": "code",
   "execution_count": 48,
   "metadata": {},
   "outputs": [
    {
     "output_type": "execute_result",
     "data": {
      "text/plain": "((1, 4, 3), (3, 4, 1))"
     },
     "metadata": {},
     "execution_count": 48
    }
   ],
   "source": [
    "a.shape, np.swapaxes(a, 0, 2).shape"
   ]
  },
  {
   "cell_type": "markdown",
   "metadata": {},
   "source": [
    "#### 数组转置\n",
    "transpose 类似于矩阵的转置，将二维数组的行列交换\n",
    "```python\n",
    "numpy.transpose(a, axes = None)\n",
    "```\n",
    "- a：数组。\n",
    "- axis：该值默认为 none，表示转置。如果有值，那么则按照值替换轴。"
   ]
  },
  {
   "cell_type": "code",
   "execution_count": 49,
   "metadata": {},
   "outputs": [
    {
     "output_type": "execute_result",
     "data": {
      "text/plain": "array([[0, 2],\n       [1, 3]])"
     },
     "metadata": {},
     "execution_count": 49
    }
   ],
   "source": [
    "a = np.arange(4).reshape(2, 2)\n",
    "np.transpose(a)"
   ]
  },
  {
   "cell_type": "markdown",
   "metadata": {},
   "source": [
    "#### 维度改变\n",
    "atleast_xd支持将输入数据直接看作x维。这里的x可以表示：1， 2， 3。方法\n",
    "> numpy.atleast_1d()\n",
    "numpy.atleast_2d()\n",
    "numpy.atleast_3d()\n"
   ]
  },
  {
   "cell_type": "code",
   "execution_count": 54,
   "metadata": {
    "tags": []
   },
   "outputs": [
    {
     "output_type": "stream",
     "name": "stdout",
     "text": "[1 2 3]\n[[4 5 6]]\n[[[7]\n  [8]\n  [9]]]\n"
    }
   ],
   "source": [
    "print(np.atleast_1d([1, 2, 3]))\n",
    "print(np.atleast_2d([4, 5, 6]))\n",
    "print(np.atleast_3d([7, 8, 9]))"
   ]
  },
  {
   "cell_type": "markdown",
   "metadata": {},
   "source": [
    "#### 类型转换\n",
    "在 NumPy 中，还有一系列以 as 开头的方法，它们可以将特定输入转换为数组，亦可将数组转换为矩阵、标量，ndarray 等。如下：\n",
    "    \n",
    "- asarray(a，dtype，order)：将特定输入转换为数组。\n",
    "- asanyarray(a，dtype，order)：将特定输入转换为 ndarray。\n",
    "- asmatrix(data，dtype)：将特定输入转换为矩阵。\n",
    "- asfarray(a，dtype)：将特定输入转换为 float 类型的数组。\n",
    "- asarray_chkfinite(a，dtype，order)：将特定输入转换为数组，检查 NaN 或 infs。\n",
    "- asscalar(a)：将大小为 1 的数组转换为标量。"
   ]
  },
  {
   "cell_type": "code",
   "execution_count": 55,
   "metadata": {},
   "outputs": [
    {
     "output_type": "execute_result",
     "data": {
      "text/plain": "matrix([[0, 1],\n        [2, 3]])"
     },
     "metadata": {},
     "execution_count": 55
    }
   ],
   "source": [
    "a = np.arange(4).reshape(2, 2)\n",
    "np.asmatrix(a)"
   ]
  },
  {
   "cell_type": "code",
   "execution_count": 57,
   "metadata": {},
   "outputs": [
    {
     "output_type": "execute_result",
     "data": {
      "text/plain": "numpy.matrix"
     },
     "metadata": {},
     "execution_count": 57
    }
   ],
   "source": [
    "type(np.asmatrix(a))"
   ]
  },
  {
   "cell_type": "code",
   "execution_count": 62,
   "metadata": {},
   "outputs": [
    {
     "output_type": "execute_result",
     "data": {
      "text/plain": "array([[1, 2],\n       [3, 4]])"
     },
     "metadata": {},
     "execution_count": 62
    }
   ],
   "source": [
    "a = [[1, 2] , [3, 4]]\n",
    "np.asarray(a, dtype = 'int')"
   ]
  },
  {
   "cell_type": "code",
   "execution_count": 60,
   "metadata": {},
   "outputs": [
    {
     "output_type": "execute_result",
     "data": {
      "text/plain": "array([[1, 2],\n       [3, 4]])"
     },
     "metadata": {},
     "execution_count": 60
    }
   ],
   "source": [
    "a = [[1, 2], [3, 4]]\n",
    "np.asanyarray(a)"
   ]
  },
  {
   "cell_type": "code",
   "execution_count": 64,
   "metadata": {},
   "outputs": [
    {
     "output_type": "execute_result",
     "data": {
      "text/plain": "array([0])"
     },
     "metadata": {},
     "execution_count": 64
    }
   ],
   "source": [
    "a = np.arange(1).reshape(1)\n",
    "a"
   ]
  },
  {
   "cell_type": "code",
   "execution_count": 66,
   "metadata": {},
   "outputs": [
    {
     "output_type": "execute_result",
     "data": {
      "text/plain": "0"
     },
     "metadata": {},
     "execution_count": 66
    }
   ],
   "source": [
    "res = np.asscalar(a)\n",
    "res"
   ]
  },
  {
   "cell_type": "markdown",
   "metadata": {},
   "source": [
    "#### 数组连接\n",
    "concatenate可以将多个数组沿指定轴连接在一起。\n",
    "```pyhton\n",
    "numpy.concatenate((a1, a2, ... an), axis = 0)\n",
    "```\n",
    "- (a1, a2, ...an)：需要连接的数组。\n",
    "- axis：指定连接轴。"
   ]
  },
  {
   "cell_type": "code",
   "execution_count": 67,
   "metadata": {},
   "outputs": [
    {
     "output_type": "execute_result",
     "data": {
      "text/plain": "array([[ 1,  2],\n       [ 3,  4],\n       [ 5,  6],\n       [-1, -2],\n       [-3, -4],\n       [ 7,  8]])"
     },
     "metadata": {},
     "execution_count": 67
    }
   ],
   "source": [
    "a = np.array([[1, 2], [3, 4], [5, 6]])\n",
    "b = np.array([[-1, -2], [-3, -4]])\n",
    "c = np.array([[7, 8]])\n",
    "np.concatenate((a, b, c), axis = 0) # axis = 0, 按照纵轴连接\n",
    "# axis = 0:按照纵轴操作\n",
    "# axis = 1:按照横轴操作\n",
    "# 具体什么是横轴和纵轴，你将数组按照矩阵形式画在纸上就明白了"
   ]
  },
  {
   "cell_type": "code",
   "execution_count": 68,
   "metadata": {},
   "outputs": [
    {
     "output_type": "execute_result",
     "data": {
      "text/plain": "array([[1, 2, 7],\n       [3, 4, 8],\n       [7, 8, 9]])"
     },
     "metadata": {},
     "execution_count": 68
    }
   ],
   "source": [
    "a = np.array([[1, 2], [3, 4], [7, 8]])\n",
    "b = np.array([[7, 8, 9]])\n",
    "np.concatenate((a, b.T), axis = 1) # 按横轴连接"
   ]
  },
  {
   "cell_type": "markdown",
   "metadata": {},
   "source": [
    "#### 数组堆叠\n",
    "在NumPy中，数组的堆叠常用的方法如下：\n",
    "\n",
    "- stack(arrays，axis)：沿着新轴连接数组的序列。\n",
    "- column_stack()：将 1 维数组作为列堆叠到 2 维数组中。\n",
    "- hstack()：按水平方向堆叠数组。\n",
    "- vstack()：按垂直方向堆叠数组。\n",
    "- dstack()：按深度方向堆叠数组。"
   ]
  },
  {
   "cell_type": "code",
   "execution_count": 71,
   "metadata": {},
   "outputs": [
    {
     "output_type": "execute_result",
     "data": {
      "text/plain": "array([[1, 2, 3],\n       [4, 5, 6]])"
     },
     "metadata": {},
     "execution_count": 71
    }
   ],
   "source": [
    "a = np.array([1, 2, 3])\n",
    "b = np.array([4, 5, 6])\n",
    "np.stack((a, b))"
   ]
  },
  {
   "cell_type": "code",
   "execution_count": 72,
   "metadata": {},
   "outputs": [
    {
     "output_type": "execute_result",
     "data": {
      "text/plain": "array([[1, 4],\n       [2, 5],\n       [3, 6]])"
     },
     "metadata": {},
     "execution_count": 72
    }
   ],
   "source": [
    "np.stack((a, b), axis = 1)"
   ]
  },
  {
   "cell_type": "markdown",
   "metadata": {},
   "source": [
    "#### 数组拆分\n",
    "- split(ary，indices_or_sections，axis)：将数组拆分为多个子数组。\n",
    "- dsplit(ary，indices_or_sections)：按深度方向将数组拆分成多个子数组。\n",
    "- hsplit(ary，indices_or_sections)：按水平方向将数组拆分成多个子数组。\n",
    "- vsplit(ary，indices_or_sections)：按垂直方向将数组拆分成多个子数组。"
   ]
  },
  {
   "cell_type": "code",
   "execution_count": 73,
   "metadata": {},
   "outputs": [
    {
     "output_type": "execute_result",
     "data": {
      "text/plain": "[array([0, 1]), array([2, 3]), array([4, 5]), array([6, 7]), array([8, 9])]"
     },
     "metadata": {},
     "execution_count": 73
    }
   ],
   "source": [
    "a = np.arange(10) # 拆分一维数组\n",
    "np.split(a, 5)"
   ]
  },
  {
   "cell_type": "code",
   "execution_count": 74,
   "metadata": {},
   "outputs": [
    {
     "output_type": "execute_result",
     "data": {
      "text/plain": "[array([[0, 1, 2, 3, 4]]), array([[5, 6, 7, 8, 9]])]"
     },
     "metadata": {},
     "execution_count": 74
    }
   ],
   "source": [
    "a = np.arange(10).reshape(2, 5)\n",
    "np.split(a, 2) # 按两行拆分"
   ]
  },
  {
   "cell_type": "markdown",
   "metadata": {},
   "source": [
    "#### 删除delete\n",
    "- delete(arr, obj, axis):沿特定轴删除数组的子数组"
   ]
  },
  {
   "cell_type": "code",
   "execution_count": 75,
   "metadata": {},
   "outputs": [
    {
     "output_type": "execute_result",
     "data": {
      "text/plain": "array([[ 0,  1,  3],\n       [ 4,  5,  7],\n       [ 8,  9, 11]])"
     },
     "metadata": {},
     "execution_count": 75
    }
   ],
   "source": [
    "a = np.arange(12).reshape(3, 4)\n",
    "np.delete(a, 2, 1) # 这里代表沿着横轴，将第 3 列(索引 2)删除。"
   ]
  },
  {
   "cell_type": "code",
   "execution_count": 76,
   "metadata": {},
   "outputs": [
    {
     "output_type": "execute_result",
     "data": {
      "text/plain": "array([[0, 1, 2, 3],\n       [4, 5, 6, 7]])"
     },
     "metadata": {},
     "execution_count": 76
    }
   ],
   "source": [
    "np.delete(a, 2, 0)"
   ]
  },
  {
   "cell_type": "markdown",
   "metadata": {},
   "source": [
    "#### 数组插入\n",
    "- insert(arr, obj, values, axis):依据索引在特定轴之前插入值。"
   ]
  },
  {
   "cell_type": "code",
   "execution_count": 77,
   "metadata": {},
   "outputs": [
    {
     "output_type": "execute_result",
     "data": {
      "text/plain": "array([[ 0,  1,  2,  3],\n       [ 4,  5,  6,  7],\n       [ 0,  1,  2,  3],\n       [ 8,  9, 10, 11]])"
     },
     "metadata": {},
     "execution_count": 77
    }
   ],
   "source": [
    "a = np.arange(12).reshape(3, 4)\n",
    "b = np.arange(4)\n",
    "\n",
    "np.insert(a, 2, b, 0) # axis = 0是操作行， 在索引第二行插入b"
   ]
  },
  {
   "cell_type": "markdown",
   "metadata": {},
   "source": [
    "#### 数组附加\n",
    "append 的用法也非常简单。只需要设置好需要附加的值和轴位置就好了。它其实相当于只能在末尾插入的 insert，所以少了一个指定索引的参数。\n",
    "\n",
    "- append(arr，values，axis)：将值附加到数组的末尾，并返回 1 维数组"
   ]
  },
  {
   "cell_type": "code",
   "execution_count": 78,
   "metadata": {},
   "outputs": [
    {
     "output_type": "execute_result",
     "data": {
      "text/plain": "array([0, 1, 2, 3, 4, 5, 0, 1, 2])"
     },
     "metadata": {},
     "execution_count": 78
    }
   ],
   "source": [
    "a = np.arange(6).reshape(2, 3)\n",
    "b = np.arange(3)\n",
    "\n",
    "np.append(a, b)"
   ]
  },
  {
   "cell_type": "markdown",
   "metadata": {},
   "source": [
    "#### 重设尺寸\n",
    "- resize(a, new_shape):对数组尺寸重新设定\n",
    "> reshape和resize区别  \n",
    "其实，它们是有区别的，区别在于对原数组的影响。reshape 在改变形状时，不会影响原数组，相当于对原数组做了一份拷贝。而 resize 则是对原数组执行操作。"
   ]
  },
  {
   "cell_type": "code",
   "execution_count": 79,
   "metadata": {},
   "outputs": [
    {
     "output_type": "execute_result",
     "data": {
      "text/plain": "array([[0, 1, 2, 3, 4],\n       [5, 6, 7, 8, 9]])"
     },
     "metadata": {},
     "execution_count": 79
    }
   ],
   "source": [
    "a = np.arange(10)\n",
    "a.resize(2, 5)\n",
    "a"
   ]
  },
  {
   "cell_type": "markdown",
   "metadata": {},
   "source": [
    "#### 翻转数组\n",
    "- fliplr(m):左右翻转数组, 以数组的纵向中心对称翻转。\n",
    "- flipud(m):上下翻转数组， 以数组的横向中心对称翻转"
   ]
  },
  {
   "cell_type": "code",
   "execution_count": 82,
   "metadata": {
    "tags": []
   },
   "outputs": [
    {
     "output_type": "stream",
     "name": "stdout",
     "text": "[[ 0  1  2  3]\n [ 4  5  6  7]\n [ 8  9 10 11]\n [12 13 14 15]]\n\n[[ 3  2  1  0]\n [ 7  6  5  4]\n [11 10  9  8]\n [15 14 13 12]]\n\n[[12 13 14 15]\n [ 8  9 10 11]\n [ 4  5  6  7]\n [ 0  1  2  3]]\n"
    }
   ],
   "source": [
    "a = np.arange(16).reshape(4, 4)\n",
    "print(a)\n",
    "print()\n",
    "print(np.fliplr(a))\n",
    "print()\n",
    "print(np.flipud(a))"
   ]
  },
  {
   "cell_type": "code",
   "execution_count": 83,
   "metadata": {
    "tags": []
   },
   "outputs": [
    {
     "output_type": "stream",
     "name": "stdout",
     "text": "[[0 1 2]\n [3 4 5]\n [6 7 8]]\n\n[[2 1 0]\n [5 4 3]\n [8 7 6]]\n\n[[6 7 8]\n [3 4 5]\n [0 1 2]]\n"
    }
   ],
   "source": [
    "a = np.arange(9).reshape(3, 3)\n",
    "print(a)\n",
    "print()\n",
    "print(np.fliplr(a))\n",
    "print()\n",
    "print(np.flipud(a))"
   ]
  },
  {
   "cell_type": "markdown",
   "metadata": {},
   "source": [
    "#### NumPy随机数\n",
    "NumPy 的随机数功能非常强大，主要由 numpy.random 模块完成。\n",
    "\n",
    "首先，我们需要了解如何使用 NumPy 也就是生成一些满足基本需求的随机数据。主要由以下一些方法完成：\n",
    "\n",
    "- numpy.random.rand(d0, d1, ..., dn) 方法的作用为：指定一个数组，并使用 [0, 1) 区间随机数据填充，这些数据均匀分布。\n",
    "\n",
    "- numpy.random.randn(d0, d1, ..., dn) 与 numpy.random.rand(d0, d1, ..., dn) 的区别在于，前者是从标准正态分布中返回一个或多个样本值。\n",
    "\n",
    "- randint(low, high, size, dtype) 方法将会生成 [low, high) 的随机整数。注意这是一个半开半闭区间。\n",
    "- random_sample(size) 方法将会在 [0, 1) 区间内生成指定 size 的随机浮点数。"
   ]
  },
  {
   "cell_type": "code",
   "execution_count": 84,
   "metadata": {},
   "outputs": [
    {
     "output_type": "execute_result",
     "data": {
      "text/plain": "array([[0.26450387, 0.51014817, 0.91940344, 0.69000074, 0.58635516],\n       [0.60717632, 0.4317119 , 0.303312  , 0.48664617, 0.61587315]])"
     },
     "metadata": {},
     "execution_count": 84
    }
   ],
   "source": [
    "np.random.rand(2, 5)"
   ]
  },
  {
   "cell_type": "code",
   "execution_count": 85,
   "metadata": {},
   "outputs": [
    {
     "output_type": "execute_result",
     "data": {
      "text/plain": "array([[-0.27956705, -0.02688687, -0.33483695, -1.44483636, -1.12423356,\n        -0.50086933,  1.00804803, -0.79393855,  1.31128082, -0.25372302]])"
     },
     "metadata": {},
     "execution_count": 85
    }
   ],
   "source": [
    "np.random.randn(1, 10)"
   ]
  },
  {
   "cell_type": "code",
   "execution_count": 86,
   "metadata": {},
   "outputs": [
    {
     "output_type": "execute_result",
     "data": {
      "text/plain": "array([4, 3, 3, 2, 3, 3, 2, 3, 4, 3])"
     },
     "metadata": {},
     "execution_count": 86
    }
   ],
   "source": [
    "np.random.randint(2, 5, 10)"
   ]
  },
  {
   "cell_type": "code",
   "execution_count": 87,
   "metadata": {},
   "outputs": [
    {
     "output_type": "execute_result",
     "data": {
      "text/plain": "array([0.22338784, 0.94691871, 0.24057428, 0.79561182, 0.64142989,\n       0.70335213, 0.71338309, 0.69159151, 0.28677573, 0.97409472])"
     },
     "metadata": {},
     "execution_count": 87
    }
   ],
   "source": [
    "np.random.random_sample([10])"
   ]
  },
  {
   "cell_type": "markdown",
   "metadata": {},
   "source": [
    "> 与 numpy.random.random_sample 类似的方法还有：  numpy.random.random([size])\n",
    "  numpy.random.ranf([size])\n",
    "  numpy.random.sample([size])  \n",
    "\n",
    "choice(a, size, replace, p) 方法将会给定的数组里随机抽取几个值，该方法类似于随机抽样。"
   ]
  },
  {
   "cell_type": "code",
   "execution_count": 90,
   "metadata": {},
   "outputs": [
    {
     "output_type": "execute_result",
     "data": {
      "text/plain": "array([3, 5, 6, 2, 5])"
     },
     "metadata": {},
     "execution_count": 90
    }
   ],
   "source": [
    "a = np.arange(10)\n",
    "np.random.choice(10, 5)"
   ]
  },
  {
   "cell_type": "markdown",
   "metadata": {},
   "source": [
    "#### 概率密度分布\n",
    "常用方法：\n",
    "- numpy.random.beta(a，b，size)：从 Beta 分布中生成随机数。\n",
    "- numpy.random.binomial(n, p, size)：从二项分布中生成随机数。\n",
    "- numpy.random.chisquare(df，size)：从卡方分布中生成随机数。\n",
    "- numpy.random.dirichlet(alpha，size)：从 Dirichlet 分布中生成随机数。\n",
    "- numpy.random.exponential(scale，size)：从指数分布中生成随机数。\n",
    "- numpy.random.f(dfnum，dfden，size)：从 F 分布中生成随机数。\n",
    "- numpy.random.gamma(shape，scale，size)：从 Gamma 分布中生成随机数。\n",
    "- numpy.random.geometric(p，size)：从几何分布中生成随机数。\n",
    "- numpy.random.gumbel(loc，scale，size)：从 Gumbel 分布中生成随机数。\n",
    "- numpy.random.hypergeometric(ngood, nbad, nsample, size)：从超几何分布中生成随机数。\n",
    "- numpy.random.laplace(loc，scale，size)：从拉普拉斯双指数分布中生成随机数。\n",
    "- numpy.random.logistic(loc，scale，size)：从逻辑分布中生成随机数。\n",
    "- numpy.random.lognormal(mean，sigma，size)：从对数正态分布中生成随机数。\n",
    "- numpy.random.logseries(p，size)：从对数系列分布中生成随机数。\n",
    "- numpy.random.multinomial(n，pvals，size)：从多项分布中生成随机数。\n",
    "- numpy.random.multivariate_normal(mean, cov, size)：从多变量正态分布绘制随机样本。\n",
    "- numpy.random.negative_binomial(n, p, size)：从负二项分布中生成随机数。\n",
    "- numpy.random.noncentral_chisquare(df，nonc，size)：从非中心卡方分布中生成随机数。\n",
    "- numpy.random.noncentral_f(dfnum, dfden, nonc, size)：从非中心 F 分布中抽取样本。\n",
    "- numpy.random.normal(loc，scale，size)：从正态分布绘制随机样本。\n",
    "- numpy.random.pareto(a，size)：从具有指定形状的 Pareto II 或 Lomax 分布中生成随机数。\n",
    "- numpy.random.poisson(lam，size)：从泊松分布中生成随机数。\n",
    "- numpy.random.power(a，size)：从具有正指数 a-1 的功率分布中在 0，1 中生成随机数。\n",
    "- numpy.random.rayleigh(scale，size)：从瑞利分布中生成随机数。\n",
    "- numpy.random.standard_cauchy(size)：从标准 Cauchy 分布中生成随机数。\n",
    "- numpy.random.standard_exponential(size)：从标准指数分布中生成随机数。\n",
    "- numpy.random.standard_gamma(shape，size)：从标准 Gamma 分布中生成随机数。\n",
    "- numpy.random.standard_normal(size)：从标准正态分布中生成随机数。\n",
    "- numpy.random.standard_t(df，size)：从具有 df 自由度的标准学生 t 分布中生成随机数。\n",
    "- numpy.random.triangular(left，mode，right，size)：从三角分布中生成随机数。\n",
    "- numpy.random.uniform(low，high，size)：从均匀分布中生成随机数。\n",
    "- numpy.random.vonmises(mu，kappa，size)：从 von Mises 分布中生成随机数。\n",
    "- numpy.random.wald(mean，scale，size)：从 Wald 或反高斯分布中生成随机数。\n",
    "- numpy.random.weibull(a，size)：从威布尔分布中生成随机数。\n",
    "- numpy.random.zipf(a，size)：从 Zipf 分布中生成随机数。"
   ]
  },
  {
   "cell_type": "markdown",
   "metadata": {},
   "source": [
    "### 数学函数\n",
    "#### 三角函数\n",
    "- numpy.sin(x)：三角正弦。\n",
    "- numpy.cos(x)：三角余弦。\n",
    "- numpy.tan(x)：三角正切。\n",
    "- numpy.arcsin(x)：三角反正弦。\n",
    "- numpy.arccos(x)：三角反余弦。\n",
    "- numpy.arctan(x)：三角反正切。\n",
    "- numpy.hypot(x1,x2)：直角三角形求斜边。\n",
    "- numpy.degrees(x)：弧度转换为度。\n",
    "- numpy.radians(x)：度转换为弧度。\n",
    "- numpy.deg2rad(x)：度转换为弧度。\n",
    "- numpy.rad2deg(x)：弧度转换为度。"
   ]
  },
  {
   "cell_type": "code",
   "execution_count": 91,
   "metadata": {},
   "outputs": [
    {
     "output_type": "execute_result",
     "data": {
      "text/plain": "0.0"
     },
     "metadata": {},
     "execution_count": 91
    }
   ],
   "source": [
    "np.sin(0)"
   ]
  },
  {
   "cell_type": "code",
   "execution_count": 92,
   "metadata": {},
   "outputs": [
    {
     "output_type": "execute_result",
     "data": {
      "text/plain": "180.0"
     },
     "metadata": {},
     "execution_count": 92
    }
   ],
   "source": [
    "np.rad2deg(np.pi)"
   ]
  },
  {
   "cell_type": "markdown",
   "metadata": {},
   "source": [
    "#### 双曲函数\n",
    "在数学中，双曲函数是一类与常见的三角函数类似的函数。双曲函数经常出现于某些重要的线性微分方程的解中，使用 NumPy 计算它们的方法为：\n",
    "     \n",
    "- numpy.sinh(x)：双曲正弦。\n",
    "- numpy.cosh(x)：双曲余弦。\n",
    "- numpy.tanh(x)：双曲正切。\n",
    "- numpy.arcsinh(x)：反双曲正弦。\n",
    "- numpy.arccosh(x)：反双曲余弦。\n",
    "- numpy.arctanh(x)：反双曲正切。"
   ]
  },
  {
   "cell_type": "markdown",
   "metadata": {},
   "source": [
    "#### 数值修约\n",
    "数值修约, 又称数字修约, 是指在进行具体的数字运算前, 按照一定的规则确定一致的位数, 然后舍去某些数字后面多余的尾数的过程。比如, 我们常听到的「4 舍 5 入」就属于数值修约中的一种。\n",
    "\n",
    "- numpy.around(a)：平均到给定的小数位数。\n",
    "- numpy.round_(a)：将数组舍入到给定的小数位数。\n",
    "- numpy.rint(x)：修约到最接近的整数。\n",
    "- numpy.fix(x, y)：向 0 舍入到最接近的整数。\n",
    "- numpy.floor(x)：返回输入的底部(标量 x 的底部是最大的整数 i)。\n",
    "- numpy.ceil(x)：返回输入的上限(标量 x 的底部是最小的整数 i).\n",
    "- numpy.trunc(x)：返回输入的截断值。"
   ]
  },
  {
   "cell_type": "code",
   "execution_count": 94,
   "metadata": {},
   "outputs": [
    {
     "output_type": "execute_result",
     "data": {
      "text/plain": "array([-0.23738775,  1.31770812, -0.5073555 ,  0.15806831,  1.20973951])"
     },
     "metadata": {},
     "execution_count": 94
    }
   ],
   "source": [
    "a = np.random.randn(5)\n",
    "a"
   ]
  },
  {
   "cell_type": "code",
   "execution_count": 95,
   "metadata": {},
   "outputs": [
    {
     "output_type": "execute_result",
     "data": {
      "text/plain": "array([-0.,  1., -1.,  0.,  1.])"
     },
     "metadata": {},
     "execution_count": 95
    }
   ],
   "source": [
    "np.around(a)"
   ]
  },
  {
   "cell_type": "code",
   "execution_count": 96,
   "metadata": {},
   "outputs": [
    {
     "output_type": "execute_result",
     "data": {
      "text/plain": "array([-0.,  1., -1.,  0.,  1.])"
     },
     "metadata": {},
     "execution_count": 96
    }
   ],
   "source": [
    "np.rint(a)"
   ]
  },
  {
   "cell_type": "code",
   "execution_count": 97,
   "metadata": {},
   "outputs": [
    {
     "output_type": "execute_result",
     "data": {
      "text/plain": "array([-0.,  1., -0.,  0.,  1.])"
     },
     "metadata": {},
     "execution_count": 97
    }
   ],
   "source": [
    "np.fix(a)"
   ]
  },
  {
   "cell_type": "markdown",
   "metadata": {},
   "source": [
    "#### 求和，求积、差分\n",
    "- numpy.prod(a, axis, dtype, keepdims)：返回指定轴上的数组元素的乘积。\n",
    "- numpy.sum(a, axis, dtype, keepdims)：返回指定轴上的数组元素的总和。\n",
    "- numpy.nanprod(a, axis, dtype, keepdims)：返回指定轴上的数组元素的乘积, 将 NaN 视作 1。\n",
    "- numpy.nansum(a, axis, dtype, keepdims)：返回指定轴上的数组元素的总和, 将 NaN 视作 0。\n",
    "- numpy.cumprod(a, axis, dtype)：返回沿给定轴的元素的累积乘积。\n",
    "- numpy.cumsum(a, axis, dtype)：返回沿给定轴的元素的累积总和。\n",
    "- numpy.nancumprod(a, axis, dtype)：返回沿给定轴的元素的累积乘积, 将 NaN 视作 1。\n",
    "- numpy.nancumsum(a, axis, dtype)：返回沿给定轴的元素的累积总和, 将 NaN 视作 0。\n",
    "- numpy.diff(a, n, axis)：计算沿指定轴的第 n 个离散差分。\n",
    "- numpy.ediff1d(ary, to_end, to_begin)：数组的连续元素之间的差异。\n",
    "- numpy.gradient(f)：返回 N 维数组的梯度。\n",
    "- numpy.cross(a, b, axisa, axisb, axisc, axis)：返回两个(数组）向量的叉积。\n",
    "- numpy.trapz(y, x, dx, axis)：使用复合梯形规则沿给定轴积分。"
   ]
  },
  {
   "cell_type": "code",
   "execution_count": 98,
   "metadata": {},
   "outputs": [],
   "source": [
    "a = np.arange(10)"
   ]
  },
  {
   "cell_type": "code",
   "execution_count": 99,
   "metadata": {},
   "outputs": [
    {
     "output_type": "execute_result",
     "data": {
      "text/plain": "array([0, 1, 2, 3, 4, 5, 6, 7, 8, 9])"
     },
     "metadata": {},
     "execution_count": 99
    }
   ],
   "source": [
    "a"
   ]
  },
  {
   "cell_type": "code",
   "execution_count": 100,
   "metadata": {},
   "outputs": [
    {
     "output_type": "execute_result",
     "data": {
      "text/plain": "45"
     },
     "metadata": {},
     "execution_count": 100
    }
   ],
   "source": [
    "np.sum(a)"
   ]
  },
  {
   "cell_type": "code",
   "execution_count": 102,
   "metadata": {},
   "outputs": [
    {
     "output_type": "execute_result",
     "data": {
      "text/plain": "array([1, 1, 1, 1, 1, 1, 1, 1, 1, 1, 1, 1, 1, 1, 1, 1, 1, 1, 1, 1, 1, 1,\n       1, 1, 1, 1, 1, 1, 1, 1, 1, 1, 1, 1, 1, 1, 1, 1, 1, 1, 1, 1, 1, 1,\n       1, 1, 1, 1, 1, 1, 1, 1, 1, 1, 1, 1, 1, 1, 1, 1, 1, 1, 1, 1, 1, 1,\n       1, 1, 1, 1, 1, 1, 1, 1, 1, 1, 1, 1, 1, 1, 1, 1, 1, 1, 1, 1, 1, 1,\n       1, 1, 1, 1, 1, 1, 1, 1, 1, 1, 1])"
     },
     "metadata": {},
     "execution_count": 102
    }
   ],
   "source": [
    "a = np.arange(100)\n",
    "np.diff(a)"
   ]
  },
  {
   "cell_type": "markdown",
   "metadata": {},
   "source": [
    "#### 指数和对数运算\n",
    "- numpy.exp(x)：计算输入数组中所有元素的指数。\n",
    "- numpy.log(x)：计算自然对数。\n",
    "- numpy.log10(x)：计算常用对数。\n",
    "- numpy.log2(x)：计算二进制对数。\n",
    "\n",
    "#### 算术运算\n",
    "- numpy.add(x1, x2)：对应元素相加。\n",
    "- numpy.reciprocal(x)：求倒数 1/x。\n",
    "- numpy.negative(x)：求对应负数。\n",
    "- numpy.multiply(x1, x2)：求解乘法。\n",
    "- numpy.divide(x1, x2)：相除 x1/x2。\n",
    "- numpy.power(x1, x2)：类似于 x1^x2。\n",
    "- numpy.subtract(x1, x2)：减法。\n",
    "- numpy.fmod(x1, x2)：返回除法的元素余项。\n",
    "- numpy.mod(x1, x2)：返回余项。\n",
    "- numpy.modf(x1)：返回数组的小数和整数部分。\n",
    "- numpy.remainder(x1, x2)：返回除法余数。"
   ]
  },
  {
   "cell_type": "code",
   "execution_count": 103,
   "metadata": {},
   "outputs": [
    {
     "output_type": "execute_result",
     "data": {
      "text/plain": "(array([9, 5, 6, 0, 9]), array([4, 2, 4, 7, 0]))"
     },
     "metadata": {},
     "execution_count": 103
    }
   ],
   "source": [
    "a1 = np.random.randint(0, 10, 5)\n",
    "a2 = np.random.randint(0, 10, 5)\n",
    "a1, a2"
   ]
  },
  {
   "cell_type": "code",
   "execution_count": 104,
   "metadata": {},
   "outputs": [
    {
     "output_type": "execute_result",
     "data": {
      "text/plain": "array([13,  7, 10,  7,  9])"
     },
     "metadata": {},
     "execution_count": 104
    }
   ],
   "source": [
    "np.add(a1, a2)"
   ]
  },
  {
   "cell_type": "code",
   "execution_count": 105,
   "metadata": {},
   "outputs": [
    {
     "output_type": "execute_result",
     "data": {
      "text/plain": "array([-9, -5, -6,  0, -9])"
     },
     "metadata": {},
     "execution_count": 105
    }
   ],
   "source": [
    "np.negative(a1)"
   ]
  },
  {
   "cell_type": "code",
   "execution_count": 106,
   "metadata": {},
   "outputs": [
    {
     "output_type": "execute_result",
     "data": {
      "text/plain": "array([36, 10, 24,  0,  0])"
     },
     "metadata": {},
     "execution_count": 106
    }
   ],
   "source": [
    "np.multiply(a1, a2)"
   ]
  },
  {
   "cell_type": "code",
   "execution_count": 107,
   "metadata": {},
   "outputs": [
    {
     "output_type": "execute_result",
     "data": {
      "text/plain": "array([2.25, 2.5 , 1.5 , 0.  ,  inf])"
     },
     "metadata": {},
     "execution_count": 107
    }
   ],
   "source": [
    "np.divide(a1, a2)"
   ]
  },
  {
   "cell_type": "code",
   "execution_count": 108,
   "metadata": {},
   "outputs": [
    {
     "output_type": "execute_result",
     "data": {
      "text/plain": "array([6561,   25, 1296,    0,    1])"
     },
     "metadata": {},
     "execution_count": 108
    }
   ],
   "source": [
    "np.power(a1, a2)"
   ]
  },
  {
   "cell_type": "markdown",
   "metadata": {},
   "source": [
    "#### 矩阵和向量积\n",
    "- numpy.dot(a, b)：求解两个数组的点积。\n",
    "- numpy.vdot(a, b)：求解两个向量的点积。\n",
    "- numpy.inner(a, b)：求解两个数组的内积。\n",
    "- numpy.outer(a, b)：求解两个向量的外积。\n",
    "- numpy.matmul(a, b)：求解两个数组的矩阵乘积。\n",
    "- numpy.tensordot(a, b)：求解张量点积。\n",
    "- numpy.kron(a, b)：计算 Kronecker 乘积。"
   ]
  },
  {
   "cell_type": "code",
   "execution_count": 111,
   "metadata": {},
   "outputs": [
    {
     "output_type": "execute_result",
     "data": {
      "text/plain": "matrix([[20, 20],\n        [47, 47]])"
     },
     "metadata": {},
     "execution_count": 111
    }
   ],
   "source": [
    "a = np.matrix([[1, 2, 3], [4, 5, 6]])\n",
    "b = np.matrix([[2, 2], [3, 3], [4, 4]])\n",
    "np.matmul(a, b)"
   ]
  },
  {
   "cell_type": "markdown",
   "metadata": {},
   "source": [
    "#### 代数运算\n",
    "- numpy.linalg.cholesky(a)：Cholesky 分解。\n",
    "- numpy.linalg.qr(a ,mode)：计算矩阵的 QR 因式分解。\n",
    "- numpy.linalg.svd(a ,full_matrices,compute_uv)：奇异值分解。\n",
    "- numpy.linalg.eig(a)：计算正方形数组的特征值和右特征向量。\n",
    "- numpy.linalg.eigh(a, UPLO)：返回 Hermitian 或对称矩阵的特征值和特征向量。\n",
    "- numpy.linalg.eigvals(a)：计算矩阵的特征值。\n",
    "- numpy.linalg.eigvalsh(a, UPLO)：计算 Hermitian 或真实对称矩阵的特征值。\n",
    "- numpy.linalg.norm(x ,ord,axis,keepdims)：计算矩阵或向量范数。\n",
    "- numpy.linalg.cond(x ,p)：计算矩阵的条件数。\n",
    "- numpy.linalg.det(a)：计算数组的行列式。\n",
    "- numpy.linalg.matrix_rank(M ,tol)：使用奇异值分解方法返回秩。\n",
    "- numpy.linalg.slogdet(a)：计算数组的行列式的符号和自然对数。\n",
    "- numpy.trace(a ,offset,axis1,axis2,dtype,out)：沿数组的对角线返回总和。\n",
    "- numpy.linalg.solve(a, b)：求解线性矩阵方程或线性标量方程组。\n",
    "- numpy.linalg.tensorsolve(a, b ,axes)：为 x 解出张量方程 a x = b\n",
    "- numpy.linalg.lstsq(a, b ,rcond)：将最小二乘解返回到线性矩阵方程。\n",
    "- numpy.linalg.inv(a)：计算逆矩阵。\n",
    "- numpy.linalg.pinv(a ,rcond)：计算矩阵的（Moore-Penrose）伪逆。\n",
    "- numpy.linalg.tensorinv(a ,ind)：计算 N 维数组的逆。\n",
    "\n",
    "#### Other Math Compute\n",
    "- numpy.angle(z, deg)：返回复参数的角度。\n",
    "- numpy.real(val)：返回数组元素的实部。\n",
    "- numpy.imag(val)：返回数组元素的虚部。\n",
    "- numpy.conj(x)：按元素方式返回共轭复数。\n",
    "- numpy.convolve(a, v, mode)：返回线性卷积。\n",
    "- numpy.sqrt(x)：平方根。\n",
    "- numpy.cbrt(x)：立方根。\n",
    "- numpy.square(x)：平方。\n",
    "- numpy.absolute(x)：绝对值, 可求解复数。\n",
    "- numpy.fabs(x)：绝对值。\n",
    "- numpy.sign(x)：符号函数。\n",
    "- numpy.maximum(x1, x2)：最大值。\n",
    "- numpy.minimum(x1, x2)：最小值。\n",
    "- numpy.nan_to_num(x)：用 0 替换 NaN。\n",
    "- numpy.interp(x, xp, fp, left, right, period)：线性插值。"
   ]
  },
  {
   "cell_type": "markdown",
   "metadata": {},
   "source": [
    "### 数组index and 切片\n",
    "#### 数组索引\n",
    "我们可以通过索引值（从 0 开始）来访问 Ndarray 中的特定位置元素。NumPy 中的索引和 Python 对 list 索引的方式非常相似，但又有所不同。我们一起来看一下：\n",
    "\n",
    "首先是，一维数据索引："
   ]
  },
  {
   "cell_type": "code",
   "execution_count": 112,
   "metadata": {},
   "outputs": [],
   "source": [
    "a = np.arange(10)"
   ]
  },
  {
   "cell_type": "code",
   "execution_count": 113,
   "metadata": {},
   "outputs": [
    {
     "output_type": "execute_result",
     "data": {
      "text/plain": "1"
     },
     "metadata": {},
     "execution_count": 113
    }
   ],
   "source": [
    "a[1]"
   ]
  },
  {
   "cell_type": "code",
   "execution_count": 114,
   "metadata": {},
   "outputs": [
    {
     "output_type": "execute_result",
     "data": {
      "text/plain": "array([1, 2, 3])"
     },
     "metadata": {},
     "execution_count": 114
    }
   ],
   "source": [
    "a[[1, 2, 3]]"
   ]
  },
  {
   "cell_type": "code",
   "execution_count": 115,
   "metadata": {},
   "outputs": [],
   "source": [
    "a = np.arange(20).reshape(4, 5)"
   ]
  },
  {
   "cell_type": "code",
   "execution_count": 116,
   "metadata": {},
   "outputs": [
    {
     "output_type": "execute_result",
     "data": {
      "text/plain": "7"
     },
     "metadata": {},
     "execution_count": 116
    }
   ],
   "source": [
    "a[1, 2]"
   ]
  },
  {
   "cell_type": "code",
   "execution_count": 118,
   "metadata": {},
   "outputs": [
    {
     "output_type": "execute_result",
     "data": {
      "text/plain": "[[0, 1, 2, 3, 4], [5, 6, 7, 8, 9], [10, 11, 12, 13, 14], [15, 16, 17, 18, 19]]"
     },
     "metadata": {},
     "execution_count": 118
    }
   ],
   "source": [
    "a = a.tolist()\n",
    "a"
   ]
  },
  {
   "cell_type": "code",
   "execution_count": 119,
   "metadata": {},
   "outputs": [
    {
     "output_type": "error",
     "ename": "TypeError",
     "evalue": "list indices must be integers or slices, not tuple",
     "traceback": [
      "\u001b[0;31m---------------------------------------------------------------------------\u001b[0m",
      "\u001b[0;31mTypeError\u001b[0m                                 Traceback (most recent call last)",
      "\u001b[0;32m<ipython-input-119-cff7934c3c80>\u001b[0m in \u001b[0;36m<module>\u001b[0;34m\u001b[0m\n\u001b[0;32m----> 1\u001b[0;31m \u001b[0ma\u001b[0m\u001b[0;34m[\u001b[0m\u001b[0;36m1\u001b[0m\u001b[0;34m,\u001b[0m \u001b[0;36m2\u001b[0m\u001b[0;34m]\u001b[0m\u001b[0;34m\u001b[0m\u001b[0;34m\u001b[0m\u001b[0m\n\u001b[0m",
      "\u001b[0;31mTypeError\u001b[0m: list indices must be integers or slices, not tuple"
     ]
    }
   ],
   "source": [
    "a[1, 2]"
   ]
  },
  {
   "cell_type": "code",
   "execution_count": 120,
   "metadata": {},
   "outputs": [
    {
     "output_type": "execute_result",
     "data": {
      "text/plain": "7"
     },
     "metadata": {},
     "execution_count": 120
    }
   ],
   "source": [
    "a[1][2]"
   ]
  },
  {
   "cell_type": "code",
   "execution_count": 121,
   "metadata": {},
   "outputs": [],
   "source": [
    "a = np.arange(20).reshape(4, 5)"
   ]
  },
  {
   "cell_type": "code",
   "execution_count": 122,
   "metadata": {},
   "outputs": [
    {
     "output_type": "execute_result",
     "data": {
      "text/plain": "array([ 8, 14])"
     },
     "metadata": {},
     "execution_count": 122
    }
   ],
   "source": [
    "a[[1, 2], [3, 4]]\n",
    "# 这里需要注意索引的对应关系。我们实际获取的是 [1, 3]，也就是第 2 行和第 4 列对于的值 8。以及 [2, 4]，也就是第 3 行和第 5 列对应的值 14。"
   ]
  },
  {
   "cell_type": "code",
   "execution_count": 123,
   "metadata": {},
   "outputs": [],
   "source": [
    "a = np.arange(30).reshape(2, 5, 3)"
   ]
  },
  {
   "cell_type": "code",
   "execution_count": 124,
   "metadata": {},
   "outputs": [
    {
     "output_type": "execute_result",
     "data": {
      "text/plain": "array([[[ 0,  1,  2],\n        [ 3,  4,  5],\n        [ 6,  7,  8],\n        [ 9, 10, 11],\n        [12, 13, 14]],\n\n       [[15, 16, 17],\n        [18, 19, 20],\n        [21, 22, 23],\n        [24, 25, 26],\n        [27, 28, 29]]])"
     },
     "metadata": {},
     "execution_count": 124
    }
   ],
   "source": [
    "a"
   ]
  },
  {
   "cell_type": "code",
   "execution_count": 125,
   "metadata": {},
   "outputs": [
    {
     "output_type": "execute_result",
     "data": {
      "text/plain": "array([ 4, 23])"
     },
     "metadata": {},
     "execution_count": 125
    }
   ],
   "source": [
    "a[[0, 1], [1, 2], [1, 2]]"
   ]
  },
  {
   "cell_type": "markdown",
   "metadata": {},
   "source": [
    "#### 数组切片\n",
    "```python\n",
    "Ndarray[start: stop: step]\n",
    "[start: stop: step] = [起始索引: 截止索引: 步长]\n",
    "```\n",
    "]"
   ]
  },
  {
   "cell_type": "code",
   "execution_count": 126,
   "metadata": {},
   "outputs": [
    {
     "output_type": "execute_result",
     "data": {
      "text/plain": "array([0, 1, 2, 3, 4, 5, 6, 7, 8, 9])"
     },
     "metadata": {},
     "execution_count": 126
    }
   ],
   "source": [
    "a = np.arange(10)\n",
    "a"
   ]
  },
  {
   "cell_type": "code",
   "execution_count": 127,
   "metadata": {},
   "outputs": [
    {
     "output_type": "execute_result",
     "data": {
      "text/plain": "array([0, 1, 2, 3, 4])"
     },
     "metadata": {},
     "execution_count": 127
    }
   ],
   "source": [
    "a[: 5]"
   ]
  },
  {
   "cell_type": "code",
   "execution_count": 128,
   "metadata": {},
   "outputs": [
    {
     "output_type": "execute_result",
     "data": {
      "text/plain": "array([5, 6, 7, 8, 9])"
     },
     "metadata": {},
     "execution_count": 128
    }
   ],
   "source": [
    "a[5: 10]"
   ]
  },
  {
   "cell_type": "code",
   "execution_count": 129,
   "metadata": {},
   "outputs": [
    {
     "output_type": "execute_result",
     "data": {
      "text/plain": "array([0, 2, 4, 6, 8])"
     },
     "metadata": {},
     "execution_count": 129
    }
   ],
   "source": [
    "a[0: 10: 2]"
   ]
  },
  {
   "cell_type": "code",
   "execution_count": 130,
   "metadata": {},
   "outputs": [
    {
     "output_type": "execute_result",
     "data": {
      "text/plain": "array([[ 0,  1,  2,  3,  4],\n       [ 5,  6,  7,  8,  9],\n       [10, 11, 12, 13, 14],\n       [15, 16, 17, 18, 19]])"
     },
     "metadata": {},
     "execution_count": 130
    }
   ],
   "source": [
    "# 对于多维数组，我们只需要用逗号 , 分割不同维度即可：\n",
    "a = np.arange(20).reshape(4, 5)\n",
    "a"
   ]
  },
  {
   "cell_type": "code",
   "execution_count": 131,
   "metadata": {},
   "outputs": [
    {
     "output_type": "execute_result",
     "data": {
      "text/plain": "array([[ 2,  3],\n       [ 7,  8],\n       [12, 13]])"
     },
     "metadata": {},
     "execution_count": 131
    }
   ],
   "source": [
    "a[0: 3, 2: 4]"
   ]
  },
  {
   "cell_type": "markdown",
   "metadata": {},
   "source": [
    "#### sort、search、count\n",
    "```python\n",
    "numpy.sort(a, axis = -1, kind = 'quicksort', order = None)\n",
    "\n",
    "```\n",
    "- a：数组。\n",
    "- axis：要排序的轴。如果为None，则在排序之前将数组铺平。默认值为 -1，沿最后一个轴排序。\n",
    "- kind：{'quicksort'，'mergesort'，'heapsort'}，排序算法。默认值为 quicksort。"
   ]
  },
  {
   "cell_type": "code",
   "execution_count": 132,
   "metadata": {},
   "outputs": [
    {
     "output_type": "execute_result",
     "data": {
      "text/plain": "array([[0.25141412, 0.79312078, 0.13825879, 0.29517414, 0.60568423],\n       [0.52252102, 0.63365093, 0.31997639, 0.0964661 , 0.20018475],\n       [0.42214985, 0.93795423, 0.47363582, 0.71467831, 0.31484512],\n       [0.8239203 , 0.2176947 , 0.29598231, 0.61859373, 0.39070299]])"
     },
     "metadata": {},
     "execution_count": 132
    }
   ],
   "source": [
    "a = np.random.rand(20).reshape(4, 5)\n",
    "a"
   ]
  },
  {
   "cell_type": "code",
   "execution_count": 133,
   "metadata": {},
   "outputs": [
    {
     "output_type": "execute_result",
     "data": {
      "text/plain": "array([[0.13825879, 0.25141412, 0.29517414, 0.60568423, 0.79312078],\n       [0.0964661 , 0.20018475, 0.31997639, 0.52252102, 0.63365093],\n       [0.31484512, 0.42214985, 0.47363582, 0.71467831, 0.93795423],\n       [0.2176947 , 0.29598231, 0.39070299, 0.61859373, 0.8239203 ]])"
     },
     "metadata": {},
     "execution_count": 133
    }
   ],
   "source": [
    "np.sort(a) # 对数组每一行进行排序"
   ]
  },
  {
   "cell_type": "markdown",
   "metadata": {},
   "source": [
    "#### Other Sort Way\n",
    "- numpy.lexsort(keys ,axis)：使用多个键进行间接排序。\n",
    "- numpy.argsort(a ,axis,kind,order)：沿给定轴执行间接排序。\n",
    "- numpy.msort(a)：沿第 1 个轴排序。\n",
    "- numpy.sort_complex(a)：针对复数排序。\n",
    "\n",
    "#### Search and Count\n",
    "- argmax(a ,axis,out)：返回数组中指定轴的最大值的索引。\n",
    "- nanargmax(a ,axis)：返回数组中指定轴的最大值的索引,忽略 NaN。\n",
    "- argmin(a ,axis,out)：返回数组中指定轴的最小值的索引。\n",
    "- nanargmin(a ,axis)：返回数组中指定轴的最小值的索引,忽略 NaN。\n",
    "- argwhere(a)：返回数组中非 0 元素的索引,按元素分组。\n",
    "- nonzero(a)：返回数组中非 0 元素的索引。\n",
    "- flatnonzero(a)：返回数组中非 0 元素的索引,并铺平。\n",
    "- where(条件,x,y)：根据指定条件,从指定行、列返回元素。\n",
    "- searchsorted(a,v ,side,sorter)：查找要插入元素以维持顺序的索引。\n",
    "- extract(condition,arr)：返回满足某些条件的数组的元素。\n",
    "- count_nonzero(a)：计算数组中非 0 元素的数量。"
   ]
  },
  {
   "cell_type": "code",
   "execution_count": 134,
   "metadata": {},
   "outputs": [
    {
     "output_type": "execute_result",
     "data": {
      "text/plain": "array([0, 4, 4, 6, 3, 5, 9, 3, 6, 5, 1, 8, 1, 4, 2, 0, 0, 9, 5, 6])"
     },
     "metadata": {},
     "execution_count": 134
    }
   ],
   "source": [
    "a = np.random.randint(0, 10, 20)\n",
    "a"
   ]
  },
  {
   "cell_type": "code",
   "execution_count": 135,
   "metadata": {},
   "outputs": [
    {
     "output_type": "execute_result",
     "data": {
      "text/plain": "6"
     },
     "metadata": {},
     "execution_count": 135
    }
   ],
   "source": [
    "np.argmax(a)"
   ]
  },
  {
   "cell_type": "code",
   "execution_count": 136,
   "metadata": {},
   "outputs": [
    {
     "output_type": "execute_result",
     "data": {
      "text/plain": "0"
     },
     "metadata": {},
     "execution_count": 136
    }
   ],
   "source": [
    "np.argmin(a)"
   ]
  },
  {
   "cell_type": "code",
   "execution_count": 137,
   "metadata": {},
   "outputs": [
    {
     "output_type": "execute_result",
     "data": {
      "text/plain": "(array([ 1,  2,  3,  4,  5,  6,  7,  8,  9, 10, 11, 12, 13, 14, 17, 18, 19]),)"
     },
     "metadata": {},
     "execution_count": 137
    }
   ],
   "source": [
    "np.nonzero(a)"
   ]
  },
  {
   "cell_type": "code",
   "execution_count": 138,
   "metadata": {},
   "outputs": [
    {
     "output_type": "execute_result",
     "data": {
      "text/plain": "17"
     },
     "metadata": {},
     "execution_count": 138
    }
   ],
   "source": [
    "np.count_nonzero(a)"
   ]
  },
  {
   "cell_type": "code",
   "execution_count": null,
   "metadata": {},
   "outputs": [],
   "source": []
  },
  {
   "cell_type": "code",
   "execution_count": null,
   "metadata": {},
   "outputs": [],
   "source": [
    "a"
   ]
  },
  {
   "cell_type": "markdown",
   "metadata": {},
   "source": [
    "这里介绍了NumPy常用的一些方法。在NumPy_Example中我放入了一些NumPy常用的一些数值运算例子。"
   ]
  }
 ],
 "metadata": {
  "language_info": {
   "codemirror_mode": {
    "name": "ipython",
    "version": 3
   },
   "file_extension": ".py",
   "mimetype": "text/x-python",
   "name": "python",
   "nbconvert_exporter": "python",
   "pygments_lexer": "ipython3",
   "version": "3.7.6-final"
  },
  "orig_nbformat": 2,
  "kernelspec": {
   "name": "python37664bitbaseconda515f14bddd674e9486622380c4011169",
   "display_name": "Python 3.7.6 64-bit ('base': conda)"
  }
 },
 "nbformat": 4,
 "nbformat_minor": 2
}